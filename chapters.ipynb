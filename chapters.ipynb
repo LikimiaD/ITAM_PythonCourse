{
 "cells": [
  {
   "cell_type": "code",
   "execution_count": 1,
   "metadata": {},
   "outputs": [
    {
     "name": "stdout",
     "output_type": "stream",
     "text": [
      "[4, 3, 2]\n"
     ]
    }
   ],
   "source": [
    "# Задание 1.А\n",
    "g = 6\n",
    "N = list(map(int, \"4 5 3 4 2 3\".split(\" \")))\n",
    "print([N[x] for x in range(len(N)) if x % 2 == 0])"
   ]
  },
  {
   "cell_type": "code",
   "execution_count": 10,
   "metadata": {},
   "outputs": [
    {
     "name": "stdout",
     "output_type": "stream",
     "text": [
      "1 0 0\n",
      "1 1 0\n",
      "2 2 0\n",
      "3 2 0\n"
     ]
    }
   ],
   "source": [
    "\n",
    "countN = 0\n",
    "countT = 0\n",
    "countF = 0\n",
    "N = int(input())\n",
    "for x in range (N):\n",
    "    a = input().split()\n",
    "    count = 0\n",
    "    for y in range(len(a)):\n",
    "        if a[y] == 'True' or 'False':\n",
    "            count += 1\n",
    "        else:\n",
    "            pass\n",
    "    if count >= 2:\n",
    "        if a[-1] == 'True':\n",
    "            countT += 1\n",
    "        elif a[-1] == 'False':\n",
    "            countF += 1\n",
    "        else:\n",
    "            countN += 1\n",
    "    if (count == 1):\n",
    "        for y in range(len(a)):\n",
    "            if a[y] == 'True':\n",
    "                countT +=1\n",
    "            elif a[y] == 'False':\n",
    "                countF += 1\n",
    "            else:\n",
    "                count += 1\n",
    "    print(countT,countF,countN)"
   ]
  },
  {
   "cell_type": "code",
   "execution_count": 2,
   "metadata": {},
   "outputs": [
    {
     "name": "stdout",
     "output_type": "stream",
     "text": [
      "3\n"
     ]
    }
   ],
   "source": [
    "# Задание 1.B\n",
    "count, g = 0,  5\n",
    "N = list(map(int, \"1 2 3 -1 -4\".split(\" \")))\n",
    "for x in range(len(N)):\n",
    "    if N[x] >= 0:\n",
    "        count += 1\n",
    "print(count)"
   ]
  },
  {
   "cell_type": "code",
   "execution_count": 3,
   "metadata": {},
   "outputs": [
    {
     "name": "stdout",
     "output_type": "stream",
     "text": [
      "1\n",
      "3\n"
     ]
    }
   ],
   "source": [
    "# Задание 1.C\n",
    "N = list(map(int, \"1 1 1 1 1 1\".split(\" \")))\n",
    "print(len(set(N)))\n",
    "N = list(map(int, \"1 1 2 2 2 3\".split(\" \")))\n",
    "print(len(set(N)))\n"
   ]
  },
  {
   "cell_type": "code",
   "execution_count": 4,
   "metadata": {},
   "outputs": [
    {
     "name": "stdout",
     "output_type": "stream",
     "text": [
      "2 1\n"
     ]
    }
   ],
   "source": [
    "# Задание 2.A\n",
    "ochka, zaochka = 0, 0\n",
    "for _ in range(int(input())):\n",
    "    x = input().split()\n",
    "    if (x[3] == \"True\"):\n",
    "        ochka += 1\n",
    "    else:\n",
    "        zaochka += 1\n",
    "print(ochka,zaochka)"
   ]
  },
  {
   "cell_type": "code",
   "execution_count": 9,
   "metadata": {},
   "outputs": [
    {
     "name": "stdout",
     "output_type": "stream",
     "text": [
      "2 1 1\n"
     ]
    }
   ],
   "source": [
    "# Задание 2.B\n",
    "import json\n",
    "import regex as re\n",
    "ochka, zaochka, error = 0, 0, 0\n",
    "for x in range(int(input())):\n",
    "    x = input()\n",
    "    g = re.findall(r\"False\\b|True\\b\", x)\n",
    "    x = x.split()\n",
    "    if ((len(g) > 1) and (bool(re.match(r'[A-Za-z]', str(x[-1]))))):\n",
    "        if (json.loads(str(x[-1]).lower())): ochka += 1\n",
    "        else: zaochka += 1\n",
    "    elif ((len(g) == 1) and ((bool(re.match(r'[A-Za-z]', str(x[-1])))))):\n",
    "        if (json.loads(g[0].lower())): ochka += 1\n",
    "        else: zaochka += 1\n",
    "    else: error += 1\n",
    "print(ochka, zaochka, error)"
   ]
  },
  {
   "cell_type": "code",
   "execution_count": 2,
   "metadata": {},
   "outputs": [
    {
     "name": "stdout",
     "output_type": "stream",
     "text": [
      "Hello.\n"
     ]
    }
   ],
   "source": [
    "# Задание 2.C\n",
    "x = \"thisisabracadabraHt1eadljjl12ojh.\"\n",
    "g = \"\"\n",
    "rang, r = 0, False\n",
    "for _ in range(len(x)):\n",
    "    if (x[_].isupper()):\n",
    "        g += x[_]\n",
    "        r = True\n",
    "    if r:\n",
    "        rang += 1\n",
    "    if (x[_].isdigit()):\n",
    "        break\n",
    "print(g + x[_+1:len(x):rang])"
   ]
  },
  {
   "cell_type": "code",
   "execution_count": 10,
   "metadata": {},
   "outputs": [
    {
     "name": "stdout",
     "output_type": "stream",
     "text": [
      "3 4 5 3 4 2\n",
      "9 3 5 7\n"
     ]
    }
   ],
   "source": [
    "# Задание 2.D\n",
    "x = \"4 5 3 4 2 3\".split()\n",
    "for _ in range(len(x)-1):\n",
    "    x = x[1:]+x[:1]\n",
    "print(\" \".join(x))\n",
    "x = \"3 5 7 9\".split()\n",
    "for _ in range(len(x)-1):\n",
    "    x = x[1:]+x[:1]\n",
    "print(\" \".join(x))"
   ]
  }
 ],
 "metadata": {
  "kernelspec": {
   "display_name": "Python 3.10.7 64-bit (microsoft store)",
   "language": "python",
   "name": "python3"
  },
  "language_info": {
   "codemirror_mode": {
    "name": "ipython",
    "version": 3
   },
   "file_extension": ".py",
   "mimetype": "text/x-python",
   "name": "python",
   "nbconvert_exporter": "python",
   "pygments_lexer": "ipython3",
   "version": "3.10.7"
  },
  "orig_nbformat": 4,
  "vscode": {
   "interpreter": {
    "hash": "260e03e7615d35080220db04c9726f977b91344ccd2cc1fe52f7b5c0edbf2337"
   }
  }
 },
 "nbformat": 4,
 "nbformat_minor": 2
}
